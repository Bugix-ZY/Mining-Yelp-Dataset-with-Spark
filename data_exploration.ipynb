{
 "cells": [
  {
   "cell_type": "code",
   "execution_count": 1,
   "metadata": {},
   "outputs": [],
   "source": [
    "from pyspark import SparkContext, SparkConf\n",
    "import time\n",
    "import json\n",
    "import sys"
   ]
  },
  {
   "cell_type": "code",
   "execution_count": 2,
   "metadata": {},
   "outputs": [],
   "source": [
    "appName = \"mining-yelp-dataset-with-spark\"\n",
    "master = \"local[*]\"\n",
    "\n",
    "conf = SparkConf().setAppName(appName).setMaster(master)\n",
    "sc = SparkContext(conf=conf)\n",
    "sc.setLogLevel(\"WARN\")"
   ]
  },
  {
   "cell_type": "code",
   "execution_count": 3,
   "metadata": {},
   "outputs": [],
   "source": [
    "review_file_path = \"/Users/ZhengYang/Documents/yelp_dataset/review.json\"\n",
    "business_file_path = \"/Users/ZhengYang/Documents/yelp_dataset/business.json\""
   ]
  },
  {
   "cell_type": "markdown",
   "metadata": {},
   "source": [
    "## review.json"
   ]
  },
  {
   "cell_type": "code",
   "execution_count": 5,
   "metadata": {},
   "outputs": [
    {
     "data": {
      "text/plain": [
       "['{\"review_id\":\"Q1sbwvVQXV2734tPgoKj4Q\",\"user_id\":\"hG7b0MtEbXx5QzbzE6C_VA\",\"business_id\":\"ujmEBvifdJM6h6RLv4wQIg\",\"stars\":1.0,\"useful\":6,\"funny\":1,\"cool\":0,\"text\":\"Total bill for this horrible service? Over $8Gs. These crooks actually had the nerve to charge us $69 for 3 pills. I checked online the pills can be had for 19 cents EACH! Avoid Hospital ERs at all costs.\",\"date\":\"2013-05-07 04:34:36\"}']"
      ]
     },
     "execution_count": 5,
     "metadata": {},
     "output_type": "execute_result"
    }
   ],
   "source": [
    "# review.json: Contains full review text data including the user_id that wrote the review and the business_id the review is written for.\n",
    "review_rdd = sc.textFile(review_file_path, 240)\n",
    "review_rdd.take(1)"
   ]
  },
  {
   "cell_type": "code",
   "execution_count": 12,
   "metadata": {},
   "outputs": [],
   "source": [
    "# The total number of reviews \n",
    "n_review = review_rdd \\\n",
    "    .map(lambda r: 1) \\\n",
    "    .reduce(lambda a, b: a + b)\n",
    "\n",
    "    \n",
    "# The number of distinct users who wrote reviews\n",
    "user_count = review_rdd \\\n",
    "        .map(lambda r: (json.loads(r)['user_id'], 1)) \\\n",
    "        .reduceByKey(lambda a, b: a + b).cache()\n",
    "n_user = user_count \\\n",
    "    .map(lambda r : 1) \\\n",
    "    .reduce(lambda a, b: a + b)\n",
    "    \n",
    "    \n",
    "# The top 10 users who wrote the largest numbers of reviews and the number of reviews they wrote\n",
    "top10_user = user_count \\\n",
    "        .sortBy(lambda r: (-r[1], r[0])) \\\n",
    "        .take(10)"
   ]
  },
  {
   "cell_type": "code",
   "execution_count": 13,
   "metadata": {},
   "outputs": [],
   "source": [
    "# The number of distinct businesses that have been reviewed \n",
    "business_count = review_rdd \\\n",
    "    .map(lambda r: (json.loads(r)['business_id'], 1)) \\\n",
    "    .reduceByKey(lambda a, b: a + b, 1).cache()\n",
    "    \n",
    "# The top 10 businesses that had the largest numbers of reviews and the number of reviews they had \n",
    "top10_business = business_count \\\n",
    "    .sortBy(lambda r: (-r[1], r[0])) \\\n",
    "    .take(10)"
   ]
  },
  {
   "cell_type": "code",
   "execution_count": 38,
   "metadata": {},
   "outputs": [
    {
     "name": "stdout",
     "output_type": "stream",
     "text": [
      "number of reviews: 6685900 \n",
      "\n",
      "number of users who has written at least one review on yelp: 1637138 \n",
      "\n",
      "top 10 active users (user_id, count): \n",
      "('CxDOIDnH8gp9KXzpBHJYXw', 4129)\n",
      "('bLbSNkLggFnqwNNzzq-Ijw', 2354)\n",
      "('PKEzKWv_FktMm2mGPjwd0Q', 1822)\n",
      "('ELcQDlf69kb-ihJfxZyL0A', 1764)\n",
      "('DK57YibC5ShBmqQl97CKog', 1727)\n",
      "('U4INQZOPSUaj8hMjLlZ3KA', 1559)\n",
      "('QJI9OSEn6ujRCtrX06vs1w', 1496)\n",
      "('d_TBs6J3twMy9GChqUEXkg', 1360)\n",
      "('hWDybu_KvYLSdEFzGrniTw', 1355)\n",
      "('cMEtAiW60I5wE_vLfTxoJQ', 1255)\n",
      "\n",
      "top 10 popular businesses (business_id, count): \n",
      "('4JNXUYY8wbaaDmk3BPzlWw', 8570)\n",
      "('RESDUcs7fIiihp38-d6_6g', 8568)\n",
      "('K7lWdNUhCbcnEvI0NhGewg', 6887)\n",
      "('f4x1YBxkLrZg652xt2KR5g', 5847)\n",
      "('cYwJA2A6I12KNkm2rtXd5g', 5575)\n",
      "('DkYS3arLOhA8si5uUEmHOw', 5206)\n",
      "('2weQS-RnoOBhb1KsHKyoSQ', 4534)\n",
      "('5LNZ67Yw9RD6nf4_UhXOjw', 4522)\n",
      "('iCQpiavjjPzJ5_3gPD5Ebg', 4351)\n",
      "('SMPbvZLSMMb7KU76YNYMGg', 4350)\n"
     ]
    }
   ],
   "source": [
    "print(\"number of reviews: %d \\n\" % n_review)\n",
    "print(\"number of users who has written at least one review on yelp: %d \\n\" % n_user)\n",
    "print(\"top 10 active users (user_id, count): \")\n",
    "print(*top10_user, sep='\\n')\n",
    "print(\"\\ntop 10 popular businesses (business_id, count): \")\n",
    "print(*top10_business, sep='\\n')"
   ]
  },
  {
   "cell_type": "code",
   "execution_count": 39,
   "metadata": {
    "scrolled": true
   },
   "outputs": [
    {
     "data": {
      "text/plain": [
       "'\\nTODO: \\n\\n+ business_id ---> business_name using business.json (find top 10 popular businesses)\\n\\n- What categories are they in? \\n\\n- What about in different states?\\n\\n- their corresponding avg stars?\\n\\n\\n'"
      ]
     },
     "execution_count": 39,
     "metadata": {},
     "output_type": "execute_result"
    }
   ],
   "source": [
    "\"\"\"\n",
    "TODO: \n",
    "\n",
    "+ business_id ---> business_name using business.json (find top 10 popular businesses)\n",
    "\n",
    "++ visualization: bar chart etc.\n",
    "\n",
    "- What categories are they in? \n",
    "\n",
    "- What about in different states?\n",
    "\n",
    "- their corresponding avg stars?\n",
    "\n",
    "\n",
    "\"\"\""
   ]
  },
  {
   "cell_type": "code",
   "execution_count": null,
   "metadata": {},
   "outputs": [],
   "source": []
  }
 ],
 "metadata": {
  "file_extension": ".py",
  "kernelspec": {
   "display_name": "Python 3",
   "language": "python",
   "name": "python3"
  },
  "language_info": {
   "codemirror_mode": {
    "name": "ipython",
    "version": 3
   },
   "file_extension": ".py",
   "mimetype": "text/x-python",
   "name": "python",
   "nbconvert_exporter": "python",
   "pygments_lexer": "ipython3",
   "version": "3.6.1"
  },
  "mimetype": "text/x-python",
  "name": "python",
  "npconvert_exporter": "python",
  "pygments_lexer": "ipython3",
  "version": 3
 },
 "nbformat": 4,
 "nbformat_minor": 2
}
